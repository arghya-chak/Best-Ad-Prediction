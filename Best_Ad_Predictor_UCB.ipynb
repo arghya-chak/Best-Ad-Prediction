{
 "cells": [
  {
   "cell_type": "markdown",
   "metadata": {},
   "source": [
    "Project- Best Ad Predictor"
   ]
  },
  {
   "cell_type": "markdown",
   "metadata": {},
   "source": [
    "1. Importing Required Libraries"
   ]
  },
  {
   "cell_type": "code",
   "execution_count": 1,
   "metadata": {},
   "outputs": [],
   "source": [
    "import pandas as pd #this helps in creating datfarames and reading data that we get from the csv files\n",
    "import matplotlib.pyplot as pt #this helps in creating graphs for data visualisation\n",
    "import math as m #this helps to perform various mathematical operations"
   ]
  },
  {
   "cell_type": "markdown",
   "metadata": {},
   "source": [
    "2. Importing Data from given link"
   ]
  },
  {
   "cell_type": "code",
   "execution_count": 2,
   "metadata": {},
   "outputs": [
    {
     "name": "stdout",
     "output_type": "stream",
     "text": [
      "DATA IMPORTED\n",
      "Size of Given Data: (10000, 10)\n",
      "Given Data:\n"
     ]
    },
    {
     "data": {
      "text/html": [
       "<div>\n",
       "<style scoped>\n",
       "    .dataframe tbody tr th:only-of-type {\n",
       "        vertical-align: middle;\n",
       "    }\n",
       "\n",
       "    .dataframe tbody tr th {\n",
       "        vertical-align: top;\n",
       "    }\n",
       "\n",
       "    .dataframe thead th {\n",
       "        text-align: right;\n",
       "    }\n",
       "</style>\n",
       "<table border=\"1\" class=\"dataframe\">\n",
       "  <thead>\n",
       "    <tr style=\"text-align: right;\">\n",
       "      <th></th>\n",
       "      <th>Ad 1</th>\n",
       "      <th>Ad 2</th>\n",
       "      <th>Ad 3</th>\n",
       "      <th>Ad 4</th>\n",
       "      <th>Ad 5</th>\n",
       "      <th>Ad 6</th>\n",
       "      <th>Ad 7</th>\n",
       "      <th>Ad 8</th>\n",
       "      <th>Ad 9</th>\n",
       "      <th>Ad 10</th>\n",
       "    </tr>\n",
       "  </thead>\n",
       "  <tbody>\n",
       "    <tr>\n",
       "      <th>0</th>\n",
       "      <td>1</td>\n",
       "      <td>0</td>\n",
       "      <td>0</td>\n",
       "      <td>0</td>\n",
       "      <td>1</td>\n",
       "      <td>0</td>\n",
       "      <td>0</td>\n",
       "      <td>0</td>\n",
       "      <td>1</td>\n",
       "      <td>0</td>\n",
       "    </tr>\n",
       "    <tr>\n",
       "      <th>1</th>\n",
       "      <td>0</td>\n",
       "      <td>0</td>\n",
       "      <td>0</td>\n",
       "      <td>0</td>\n",
       "      <td>0</td>\n",
       "      <td>0</td>\n",
       "      <td>0</td>\n",
       "      <td>0</td>\n",
       "      <td>1</td>\n",
       "      <td>0</td>\n",
       "    </tr>\n",
       "    <tr>\n",
       "      <th>2</th>\n",
       "      <td>0</td>\n",
       "      <td>0</td>\n",
       "      <td>0</td>\n",
       "      <td>0</td>\n",
       "      <td>0</td>\n",
       "      <td>0</td>\n",
       "      <td>0</td>\n",
       "      <td>0</td>\n",
       "      <td>0</td>\n",
       "      <td>0</td>\n",
       "    </tr>\n",
       "    <tr>\n",
       "      <th>3</th>\n",
       "      <td>0</td>\n",
       "      <td>1</td>\n",
       "      <td>0</td>\n",
       "      <td>0</td>\n",
       "      <td>0</td>\n",
       "      <td>0</td>\n",
       "      <td>0</td>\n",
       "      <td>1</td>\n",
       "      <td>0</td>\n",
       "      <td>0</td>\n",
       "    </tr>\n",
       "    <tr>\n",
       "      <th>4</th>\n",
       "      <td>0</td>\n",
       "      <td>0</td>\n",
       "      <td>0</td>\n",
       "      <td>0</td>\n",
       "      <td>0</td>\n",
       "      <td>0</td>\n",
       "      <td>0</td>\n",
       "      <td>0</td>\n",
       "      <td>0</td>\n",
       "      <td>0</td>\n",
       "    </tr>\n",
       "  </tbody>\n",
       "</table>\n",
       "</div>"
      ],
      "text/plain": [
       "   Ad 1  Ad 2  Ad 3  Ad 4  Ad 5  Ad 6  Ad 7  Ad 8  Ad 9  Ad 10\n",
       "0     1     0     0     0     1     0     0     0     1      0\n",
       "1     0     0     0     0     0     0     0     0     1      0\n",
       "2     0     0     0     0     0     0     0     0     0      0\n",
       "3     0     1     0     0     0     0     0     1     0      0\n",
       "4     0     0     0     0     0     0     0     0     0      0"
      ]
     },
     "execution_count": 2,
     "metadata": {},
     "output_type": "execute_result"
    }
   ],
   "source": [
    "file= \"Ads_CTR_Optimisation.csv\" #file for data\n",
    "s_data = pd.read_csv(file) #reading the data and storing in s_data\n",
    "print(\"DATA IMPORTED\") #prints when data is successfully imported\n",
    "print (\"Size of Given Data:\", s_data.shape) #displays size of data\n",
    "print(\"Given Data:\") \n",
    "s_data.head() #prints the first five rows of the data in tabular form"
   ]
  },
  {
   "cell_type": "markdown",
   "metadata": {},
   "source": [
    "3. Storing labels in a variable"
   ]
  },
  {
   "cell_type": "code",
   "execution_count": 3,
   "metadata": {},
   "outputs": [],
   "source": [
    "Number_of_Rounds= 10000 #number of rounds for which the data is examined \n",
    "Number_of_Ads= 10 #number of ads\n",
    "Ads_Selected= [] #creates empty list\n",
    "Number_of_Selections= [0]*Number_of_Ads #list of zeroes\n",
    "Sum_of_Rewards= [0]*Number_of_Ads #list of zeroes\n",
    "Total_Reward= 0 #assigning value 0 to variable\n",
    "\n",
    "for n in range(0, Number_of_Rounds): #for loop exexcuted for all rows\n",
    "    Ad=0\n",
    "    Max_Upper_Bound=0\n",
    "    for i in range(0, Number_of_Ads): #inner loop for number of ads\n",
    "        if (Number_of_Selections[i] > 0): \n",
    "            Average_Reward= Sum_of_Rewards[i]/Number_of_Selections[i]\n",
    "            Delta_I= m.sqrt(3/2 * m.log(n+1)/Number_of_Selections[i])\n",
    "            Upper_Bound= Average_Reward + Delta_I\n",
    "        else:\n",
    "            Upper_Bound= 1e400\n",
    "        if (Upper_Bound>Max_Upper_Bound):\n",
    "            Max_Upper_Bound= Upper_Bound\n",
    "            Ad= i  \n",
    "    Ads_Selected.append(Ad)      \n",
    "    Number_of_Selections[Ad]+=1\n",
    "    Reward= s_data.values[n, Ad]\n",
    "    Sum_of_Rewards[Ad]+=Reward\n",
    "    Total_Reward+=Reward\n"
   ]
  },
  {
   "cell_type": "markdown",
   "metadata": {},
   "source": [
    "4. Pictorial Representation\n"
   ]
  },
  {
   "cell_type": "code",
   "execution_count": 4,
   "metadata": {},
   "outputs": [
    {
     "data": {
      "image/png": "[encoded data removed]",
      "text/plain": [
       "<Figure size 432x288 with 1 Axes>"
      ]
     },
     "metadata": {
      "needs_background": "light"
     },
     "output_type": "display_data"
    }
   ],
   "source": [
    "pt.hist(Ads_Selected) #creates histogram using mentioned data\n",
    "pt.title(\"Histogram of Ads Selected\") #histogram title\n",
    "pt.xlabel(\"Ads\") #labelling of x-axis\n",
    "pt.ylabel(\"No. of times each Ad was selected\") #labelling of y-axis\n",
    "pt.show() #displaying the graph"
   ]
  }
 ],
 "metadata": {
  "interpreter": {
   "hash": "dd3ae73889de1ab7b420c8bee4a2684ba743b044f0f711707f5e3cba9a1a97e4"
  },
  "kernelspec": {
   "display_name": "Python 3.8.8 ('base')",
   "language": "python",
   "name": "python3"
  },
  "language_info": {
   "codemirror_mode": {
    "name": "ipython",
    "version": 3
   },
   "file_extension": ".py",
   "mimetype": "text/x-python",
   "name": "python",
   "nbconvert_exporter": "python",
   "pygments_lexer": "ipython3",
   "version": "3.8.8"
  },
  "orig_nbformat": 4
 },
 "nbformat": 4,
 "nbformat_minor": 2
}
